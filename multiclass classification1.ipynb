{
 "cells": [
  {
   "cell_type": "markdown",
   "source": [
    "## Importing the libraries"
   ],
   "metadata": {
    "collapsed": false
   },
   "id": "e9108a8b7f9c5274"
  },
  {
   "cell_type": "code",
   "execution_count": 1,
   "id": "initial_id",
   "metadata": {
    "collapsed": true,
    "ExecuteTime": {
     "end_time": "2024-07-05T16:09:43.285026300Z",
     "start_time": "2024-07-05T16:09:38.316949900Z"
    }
   },
   "outputs": [],
   "source": [
    "import tensorflow as tf\n",
    "from tensorflow.keras.preprocessing.image import ImageDataGenerator\n",
    "from tensorflow.keras.applications import NASNetMobile\n",
    "from tensorflow import keras\n",
    "from tensorflow.keras import layers , models\n",
    "from tensorflow.keras.models import Sequential\n",
    "from tensorflow.keras.layers import Dense, Flatten, Dropout, Activation ,       MaxPooling2D, BatchNormalization\n",
    "from sklearn.model_selection import train_test_split\n",
    "from PIL import Image\n",
    "import os\n",
    "import numpy as np\n",
    "import shutil\n",
    "import pandas as pd\n",
    "import random\n",
    "import matplotlib.pyplot as plt"
   ]
  },
  {
   "cell_type": "markdown",
   "source": [
    "## Dataset Preparation"
   ],
   "metadata": {
    "collapsed": false
   },
   "id": "36ab87e0983cb7e0"
  },
  {
   "cell_type": "markdown",
   "source": [
    "### Reading images"
   ],
   "metadata": {
    "collapsed": false
   },
   "id": "63621a87194bee23"
  },
  {
   "cell_type": "code",
   "outputs": [],
   "source": [
    "csv_file = pd.read_csv('ISIC_2019_Training_GroundTruth (2).csv')\n",
    "image_path = []\n",
    "column_name = ['Melanoma', 'Melanocytic nevus' , 'Basal cell carcinoma' ,'Actinic  keratosis','Benign keratosis', 'Dermatofibrona','Vascular lesion','Squamous cell carcinoma']\n",
    "disease_list = csv_file.iloc[:,1:9]\n",
    "image_name = csv_file.iloc[:,0]\n",
    "dir = 'ISIC_2019_Training_Input'\n",
    "for name in image_name:\n",
    "    fpath = os.path.join(dir, name+'.jpg')\n",
    "    image_path.append(fpath)          "
   ],
   "metadata": {
    "collapsed": false,
    "ExecuteTime": {
     "end_time": "2024-07-05T16:09:43.518491800Z",
     "start_time": "2024-07-05T16:09:43.289539100Z"
    }
   },
   "id": "7a7bb7c49c011f79",
   "execution_count": 2
  },
  {
   "cell_type": "code",
   "outputs": [],
   "source": [
    "os.makedirs(\"segregation_training1\",exist_ok=True)\n",
    "for names in column_name:\n",
    "    os.makedirs(f\"segregation_training1/{names}\",exist_ok=True)\n",
    "\n",
    "os.makedirs(\"segregation_testing1\",exist_ok=True)\n",
    "for names in column_name:\n",
    "    os.makedirs(f\"segregation_testing1/{names}\",exist_ok=True)\n",
    "\n",
    "os.makedirs(\"segregation_validation1\",exist_ok=True)\n",
    "for names in column_name:\n",
    "    os.makedirs(f\"segregation_validation1/{names}\",exist_ok=True)\n",
    "    \n",
    "for index in range(0 , 8):\n",
    "    for index_number , value in enumerate(disease_list.iloc[:,index]):\n",
    "        #disease_name = column_name[index]\n",
    "        if value == 1.0:\n",
    "            if random.random()<0.7:\n",
    "                shutil.copy(image_path[index_number],f\"segregation_training1/{column_name[index]}\")\n",
    "            elif random.random()<0.85:\n",
    "                shutil.copy(image_path[index_number],f\"segregation_validation1/{column_name[index]}\")\n",
    "            else:\n",
    "                shutil.copy(image_path[index_number],f\"segregation_testing1/{column_name[index]}\")\n",
    "                \n",
    "            \n",
    "            \n",
    "            \n",
    "        "
   ],
   "metadata": {
    "collapsed": false,
    "ExecuteTime": {
     "end_time": "2024-07-05T16:15:24.760363800Z",
     "start_time": "2024-07-05T16:09:43.524831100Z"
    }
   },
   "id": "24a911403558175a",
   "execution_count": 3
  },
  {
   "cell_type": "code",
   "outputs": [],
   "source": [
    "# One-hot encode disease labels\n",
    "num_classes = len(column_name)  # Assuming each column represents a class\n",
    "one_hot_labels = tf.keras.utils.to_categorical(disease_list, num_classes)\n"
   ],
   "metadata": {
    "collapsed": false,
    "ExecuteTime": {
     "end_time": "2024-07-05T16:15:24.775013800Z",
     "start_time": "2024-07-05T16:15:24.761364400Z"
    }
   },
   "id": "d4a2a86ffb342618",
   "execution_count": 4
  },
  {
   "cell_type": "markdown",
   "source": [
    "## Importing the NASnet model"
   ],
   "metadata": {
    "collapsed": false
   },
   "id": "e921bde3c85a556a"
  },
  {
   "cell_type": "code",
   "outputs": [
    {
     "name": "stdout",
     "output_type": "stream",
     "text": [
      "Model: \"sequential\"\n",
      "_________________________________________________________________\n",
      " Layer (type)                Output Shape              Param #   \n",
      "=================================================================\n",
      " mobilenetv2_1.00_224 (Funct  (None, 7, 7, 1280)       2257984   \n",
      " ional)                                                          \n",
      "                                                                 \n",
      " flatten (Flatten)           (None, 62720)             0         \n",
      "                                                                 \n",
      " dense (Dense)               (None, 128)               8028288   \n",
      "                                                                 \n",
      " dense_1 (Dense)             (None, 8)                 1032      \n",
      "                                                                 \n",
      "=================================================================\n",
      "Total params: 10,287,304\n",
      "Trainable params: 10,253,192\n",
      "Non-trainable params: 34,112\n",
      "_________________________________________________________________\n",
      "None\n"
     ]
    }
   ],
   "source": [
    "model_url = \"https://tfhub.dev/google/imagenet/nasnet_mobile/feature_vector/4\"\n",
    "NASNet_mobile = tf.keras.applications.MobileNetV2(weights=\"imagenet\", include_top=False, input_shape=(224, 224, 3))  # Download weights explicitly\n",
    "\n",
    "# Create your classification head\n",
    "model = tf.keras.Sequential([\n",
    "    NASNet_mobile,\n",
    "    layers.Flatten(),\n",
    "    layers.Dense(128, activation=\"sigmoid\"),  # Optional hidden layer\n",
    "    layers.Dense(num_classes, activation=\"softmax\")  # Output layer for binary classification\n",
    "])\n",
    "\n",
    "\n",
    "# Compile the model\n",
    "METRICS = [\n",
    "    keras.metrics.BinaryAccuracy(name=\"accuracy\"),\n",
    "    keras.metrics.Precision(name=\"precision\"),\n",
    "    keras.metrics.Recall(name=\"recall\"),\n",
    "    keras.metrics.AUC(name=\"auc\"),\n",
    "]\n",
    "\n",
    "model.compile(\n",
    "    optimizer= 'rmsprop',\n",
    "    loss = 'categorical_crossentropy',\n",
    "    metrics=METRICS,\n",
    ")\n",
    "print(model.summary())"
   ],
   "metadata": {
    "collapsed": false,
    "ExecuteTime": {
     "end_time": "2024-07-05T16:15:26.399735200Z",
     "start_time": "2024-07-05T16:15:24.777165800Z"
    }
   },
   "id": "94e4b1b911fc423a",
   "execution_count": 5
  },
  {
   "cell_type": "code",
   "outputs": [
    {
     "name": "stdout",
     "output_type": "stream",
     "text": [
      "Found 17736 images belonging to 8 classes.\n",
      "Found 6498 images belonging to 8 classes.\n",
      "1109/1109 [==============================] - 1541s 1s/step - loss: 1.2985 - accuracy: 0.9031 - precision: 0.6916 - recall: 0.4061 - auc: 0.8761 - val_loss: 1.6498 - val_accuracy: 0.8777 - val_precision: 0.5106 - val_recall: 0.5106 - val_auc: 0.8293\n"
     ]
    }
   ],
   "source": [
    "# Define data generators for training and validation sets (recommended for large datasets)\n",
    "train_datagen = tf.keras.preprocessing.image.ImageDataGenerator(rescale=1./255)\n",
    "val_datagen = tf.keras.preprocessing.image.ImageDataGenerator(rescale=1./255)\n",
    "img_width, img_height = 224, 224\n",
    "batch_size = 16\n",
    "# Create training and validation data generators\n",
    "train_generator = train_datagen.flow_from_directory(\n",
    "    'segregation_training1',\n",
    "    target_size=(img_height, img_width),\n",
    "    batch_size=batch_size,\n",
    "    class_mode='categorical'\n",
    "    )\n",
    "\n",
    "val_generator = val_datagen.flow_from_directory(\n",
    "    'segregation_validation1',\n",
    "    target_size=(img_height, img_width),\n",
    "    batch_size=batch_size,\n",
    "    class_mode='categorical'\n",
    "    \n",
    ")\n",
    "\n",
    "# Train the model\n",
    "history = model.fit(train_generator,\n",
    "          epochs=1,  # Adjust number of epochs based on your dataset size\n",
    "          validation_data=val_generator,\n",
    "                    )\n",
    "\n"
   ],
   "metadata": {
    "collapsed": false,
    "ExecuteTime": {
     "end_time": "2024-07-05T16:41:08.750145100Z",
     "start_time": "2024-07-05T16:15:26.399735200Z"
    }
   },
   "id": "6eb0b6c350a8e1e",
   "execution_count": 6
  },
  {
   "cell_type": "markdown",
   "source": [
    "## Displaying the metrics "
   ],
   "metadata": {
    "collapsed": false
   },
   "id": "c7050d7d53939b82"
  },
  {
   "cell_type": "code",
   "outputs": [
    {
     "name": "stdout",
     "output_type": "stream",
     "text": [
      "[1.298478603363037]\n"
     ]
    },
    {
     "data": {
      "text/plain": "<matplotlib.legend.Legend at 0x1e5d4121d90>"
     },
     "execution_count": 15,
     "metadata": {},
     "output_type": "execute_result"
    },
    {
     "data": {
      "text/plain": "<Figure size 640x480 with 1 Axes>",
      "image/png": "[encoded data removed]"
     },
     "metadata": {},
     "output_type": "display_data"
    }
   ],
   "source": [
    "loss = history.history['loss']\n",
    "val_loss = history.history['val_loss']\n",
    "print(loss )\n",
    "epochs = range (1, len(loss) + 1)\n",
    "plt.plot(epochs , loss , 'y' , label = \"Training_loss\")\n",
    "plt.plot(epochs , val_loss,'r' , label = \"Validation_loss\")\n",
    "plt.title('Training and validation accuracy')\n",
    "plt.xlabel('Epochs')\n",
    "plt.ylabel('Accuracy')\n",
    "plt.legend()"
   ],
   "metadata": {
    "collapsed": false,
    "ExecuteTime": {
     "end_time": "2024-07-05T16:52:25.399896600Z",
     "start_time": "2024-07-05T16:52:25.251372600Z"
    }
   },
   "id": "497214089b4ea436",
   "execution_count": 15
  },
  {
   "cell_type": "code",
   "outputs": [
    {
     "ename": "KeyError",
     "evalue": "'acc'",
     "output_type": "error",
     "traceback": [
      "\u001B[1;31m---------------------------------------------------------------------------\u001B[0m",
      "\u001B[1;31mKeyError\u001B[0m                                  Traceback (most recent call last)",
      "Cell \u001B[1;32mIn[8], line 1\u001B[0m\n\u001B[1;32m----> 1\u001B[0m acc \u001B[38;5;241m=\u001B[39m \u001B[43mhistory\u001B[49m\u001B[38;5;241;43m.\u001B[39;49m\u001B[43mhistory\u001B[49m\u001B[43m[\u001B[49m\u001B[38;5;124;43m'\u001B[39;49m\u001B[38;5;124;43macc\u001B[39;49m\u001B[38;5;124;43m'\u001B[39;49m\u001B[43m]\u001B[49m\n\u001B[0;32m      2\u001B[0m val_acc \u001B[38;5;241m=\u001B[39m history\u001B[38;5;241m.\u001B[39mhistory[\u001B[38;5;124m'\u001B[39m\u001B[38;5;124mval_acc\u001B[39m\u001B[38;5;124m'\u001B[39m]\n\u001B[0;32m      3\u001B[0m plt\u001B[38;5;241m.\u001B[39mplot(epochs, acc, \u001B[38;5;124m'\u001B[39m\u001B[38;5;124my\u001B[39m\u001B[38;5;124m'\u001B[39m, label\u001B[38;5;241m=\u001B[39m\u001B[38;5;124m'\u001B[39m\u001B[38;5;124mTraining acc\u001B[39m\u001B[38;5;124m'\u001B[39m)\n",
      "\u001B[1;31mKeyError\u001B[0m: 'acc'"
     ]
    }
   ],
   "source": [
    "acc = history.history['acc']\n",
    "val_acc = history.history['val_acc']\n",
    "plt.plot(epochs, acc, 'y', label='Training acc')\n",
    "plt.plot(epochs, val_acc, 'r', label='Validation acc')\n",
    "plt.title('Training and validation accuracy')\n",
    "plt.xlabel('Epochs')\n",
    "plt.ylabel('Accuracy')\n",
    "plt.legend()\n",
    "plt.show()"
   ],
   "metadata": {
    "collapsed": false,
    "ExecuteTime": {
     "end_time": "2024-07-05T16:41:11.031482900Z",
     "start_time": "2024-07-05T16:41:09.426913900Z"
    }
   },
   "id": "8ee3f96cc1b76a78",
   "execution_count": 8
  },
  {
   "cell_type": "code",
   "outputs": [
    {
     "name": "stdout",
     "output_type": "stream",
     "text": [
      "Found 1097 images belonging to 8 classes.\n",
      "35/35 [==============================] - 15s 420ms/step - loss: 1.6333 - accuracy: 0.8765 - precision: 0.5059 - recall: 0.5059 - auc: 0.8373\n",
      "[1.6333141326904297, 0.876481294631958, 0.5059252381324768, 0.5059252381324768, 0.8372557759284973]\n"
     ]
    },
    {
     "ename": "NameError",
     "evalue": "name 'test_acc' is not defined",
     "output_type": "error",
     "traceback": [
      "\u001B[1;31m---------------------------------------------------------------------------\u001B[0m",
      "\u001B[1;31mNameError\u001B[0m                                 Traceback (most recent call last)",
      "Cell \u001B[1;32mIn[13], line 14\u001B[0m\n\u001B[0;32m     11\u001B[0m \u001B[38;5;28mprint\u001B[39m(model\u001B[38;5;241m.\u001B[39mevaluate(test_generator))\n\u001B[0;32m     13\u001B[0m \u001B[38;5;66;03m# Print test accuracy\u001B[39;00m\n\u001B[1;32m---> 14\u001B[0m \u001B[38;5;28mprint\u001B[39m(\u001B[38;5;124m'\u001B[39m\u001B[38;5;124mTest accuracy:\u001B[39m\u001B[38;5;124m'\u001B[39m, \u001B[43mtest_acc\u001B[49m)\n",
      "\u001B[1;31mNameError\u001B[0m: name 'test_acc' is not defined"
     ]
    }
   ],
   "source": [
    "# Load test data generator (similar to training and validation)\n",
    "test_datagen = tf.keras.preprocessing.image.ImageDataGenerator(rescale=1./255)\n",
    "test_generator = test_datagen.flow_from_directory(\n",
    "    'segregation_testing1',  # Replace with path to your test data folder\n",
    "    target_size=(img_height, img_width),\n",
    "    batch_size=32,\n",
    "    class_mode='categorical'\n",
    ")\n",
    "\n",
    "# Evaluate the model on the test data\n",
    "print(model.evaluate(test_generator))\n",
    "\n",
    "\n"
   ],
   "metadata": {
    "collapsed": false,
    "ExecuteTime": {
     "end_time": "2024-07-05T16:48:17.793151100Z",
     "start_time": "2024-07-05T16:48:02.605382300Z"
    }
   },
   "id": "eba5dc5288514eb8",
   "execution_count": 13
  },
  {
   "cell_type": "code",
   "outputs": [],
   "source": [],
   "metadata": {
    "collapsed": false
   },
   "id": "ab3a47af90bd2134"
  }
 ],
 "metadata": {
  "kernelspec": {
   "display_name": "Python 3",
   "language": "python",
   "name": "python3"
  },
  "language_info": {
   "codemirror_mode": {
    "name": "ipython",
    "version": 2
   },
   "file_extension": ".py",
   "mimetype": "text/x-python",
   "name": "python",
   "nbconvert_exporter": "python",
   "pygments_lexer": "ipython2",
   "version": "2.7.6"
  }
 },
 "nbformat": 4,
 "nbformat_minor": 5
}
